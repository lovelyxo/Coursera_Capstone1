{
    "nbformat_minor": 1, 
    "cells": [
        {
            "source": "# Capstone Project-Suitable location for sushi restaurant in Toronto", 
            "cell_type": "markdown", 
            "metadata": {
                "collapsed": true
            }
        }, 
        {
            "source": "### Introduction/Business Problem:\n\n#### My client would like to open a sushi restaurant in Toronto area and they would like to find out the demand for sushi restaurants and which neighborhood has the most sushi restaurant populated.", 
            "cell_type": "markdown", 
            "metadata": {}
        }, 
        {
            "source": "# Data Section\n\n### Data to be used for the project:\n\n#### Demographic data in Toronto (https://en.wikipedia.org/wiki/Demographics_of_Toronto)\n#### List of postal codes of Toronto (https://en.wikipedia.org/wiki/List_of_postal_codes_of_Canada:_M)\n#### Getting venue data from foursquare (https://api.foursquare.com)", 
            "cell_type": "markdown", 
            "metadata": {}
        }, 
        {
            "execution_count": null, 
            "cell_type": "code", 
            "metadata": {}, 
            "outputs": [], 
            "source": ""
        }
    ], 
    "metadata": {
        "kernelspec": {
            "display_name": "Python 3.6", 
            "name": "python3", 
            "language": "python"
        }, 
        "language_info": {
            "mimetype": "text/x-python", 
            "nbconvert_exporter": "python", 
            "version": "3.6.8", 
            "name": "python", 
            "file_extension": ".py", 
            "pygments_lexer": "ipython3", 
            "codemirror_mode": {
                "version": 3, 
                "name": "ipython"
            }
        }
    }, 
    "nbformat": 4
}